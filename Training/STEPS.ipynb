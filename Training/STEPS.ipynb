{
  "nbformat": 4,
  "nbformat_minor": 0,
  "metadata": {
    "colab": {
      "name": "STEPS.ipynb",
      "version": "0.3.2",
      "views": {},
      "default_view": {},
      "provenance": [],
      "collapsed_sections": []
    },
    "kernelspec": {
      "name": "python3",
      "display_name": "Python 3"
    },
    "accelerator": "GPU"
  },
  "cells": [
    {
      "metadata": {
        "id": "OMT0L4_ch4Vj",
        "colab_type": "code",
        "colab": {
          "autoexec": {
            "startup": false,
            "wait_interval": 0
          }
        }
      },
      "cell_type": "code",
      "source": [
        "!apt-get install -y -qq software-properties-common python-software-properties module-init-tools\n",
        "!add-apt-repository -y ppa:alessandro-strada/ppa 2>&1 > /dev/null\n",
        "!apt-get update -qq 2>&1 > /dev/null\n",
        "!apt-get -y install -qq google-drive-ocamlfuse fuse\n",
        "from google.colab import auth\n",
        "auth.authenticate_user()\n",
        "from oauth2client.client import GoogleCredentials\n",
        "creds = GoogleCredentials.get_application_default()\n",
        "import getpass\n",
        "!google-drive-ocamlfuse -headless -id={creds.client_id} -secret={creds.client_secret} < /dev/null 2>&1 | grep URL\n",
        "vcode = getpass.getpass()\n",
        "!echo {vcode} | google-drive-ocamlfuse -headless -id={creds.client_id} -secret={creds.client_secret}\n",
        "!mkdir -p drive\n",
        "!google-drive-ocamlfuse drive\n",
        "\n"
      ],
      "execution_count": 0,
      "outputs": []
    },
    {
      "metadata": {
        "id": "U6s0tyj6q4Jo",
        "colab_type": "code",
        "colab": {
          "autoexec": {
            "startup": false,
            "wait_interval": 0
          },
          "base_uri": "https://localhost:8080/",
          "height": 124
        },
        "outputId": "aba2b9c0-88bb-4ede-8014-fb94d35e36dc",
        "executionInfo": {
          "status": "ok",
          "timestamp": 1530376370957,
          "user_tz": -330,
          "elapsed": 4754,
          "user": {
            "displayName": "Navid Panchi",
            "photoUrl": "//lh3.googleusercontent.com/-NM0Kl46VUA4/AAAAAAAAAAI/AAAAAAAABmU/OhXG5uRldO0/s50-c-k-no/photo.jpg",
            "userId": "116777458968682332604"
          }
        }
      },
      "cell_type": "code",
      "source": [
        "!pip install tqdm"
      ],
      "execution_count": 5,
      "outputs": [
        {
          "output_type": "stream",
          "text": [
            "Collecting tqdm\n",
            "\u001b[?25l  Downloading https://files.pythonhosted.org/packages/93/24/6ab1df969db228aed36a648a8959d1027099ce45fad67532b9673d533318/tqdm-4.23.4-py2.py3-none-any.whl (42kB)\n",
            "\u001b[K    100% |████████████████████████████████| 51kB 2.5MB/s \n",
            "\u001b[?25hInstalling collected packages: tqdm\n",
            "Successfully installed tqdm-4.23.4\n"
          ],
          "name": "stdout"
        }
      ]
    },
    {
      "metadata": {
        "id": "QYsB0yx-NDpr",
        "colab_type": "code",
        "colab": {
          "autoexec": {
            "startup": false,
            "wait_interval": 0
          },
          "base_uri": "https://localhost:8080/",
          "height": 347
        },
        "outputId": "08d63f71-7660-4242-e1ad-74529cedb069",
        "executionInfo": {
          "status": "ok",
          "timestamp": 1530376085340,
          "user_tz": -330,
          "elapsed": 1556,
          "user": {
            "displayName": "Navid Panchi",
            "photoUrl": "//lh3.googleusercontent.com/-NM0Kl46VUA4/AAAAAAAAAAI/AAAAAAAABmU/OhXG5uRldO0/s50-c-k-no/photo.jpg",
            "userId": "116777458968682332604"
          }
        }
      },
      "cell_type": "code",
      "source": [
        "import os\n",
        "os.chdir('drive/aman')\n",
        "os.listdir()"
      ],
      "execution_count": 2,
      "outputs": [
        {
          "output_type": "execute_result",
          "data": {
            "text/plain": [
              "['Copy of mnist.ipynb',\n",
              " 'predictions_on_test.csv',\n",
              " 'ngrok-stable-linux-amd64.zip',\n",
              " 'Test',\n",
              " 'model-013.h5',\n",
              " 'model-012.h5',\n",
              " 'model-011.h5',\n",
              " 'model-010.h5',\n",
              " 'model-009.h5',\n",
              " 'model-003.h5',\n",
              " 'model-002.h5',\n",
              " 'model-001.h5',\n",
              " '.logs',\n",
              " 'main_model.h5',\n",
              " 'checkpoints',\n",
              " 'logs',\n",
              " 'pos',\n",
              " 'Negs',\n",
              " 'ngrok']"
            ]
          },
          "metadata": {
            "tags": []
          },
          "execution_count": 2
        }
      ]
    },
    {
      "metadata": {
        "id": "sb9Tu3ArgInA",
        "colab_type": "code",
        "colab": {
          "autoexec": {
            "startup": false,
            "wait_interval": 0
          },
          "base_uri": "https://localhost:8080/",
          "height": 610
        },
        "outputId": "a0122289-bb86-424e-c0f6-5d21dfa59b96",
        "executionInfo": {
          "status": "ok",
          "timestamp": 1530376281012,
          "user_tz": -330,
          "elapsed": 149707,
          "user": {
            "displayName": "Navid Panchi",
            "photoUrl": "//lh3.googleusercontent.com/-NM0Kl46VUA4/AAAAAAAAAAI/AAAAAAAABmU/OhXG5uRldO0/s50-c-k-no/photo.jpg",
            "userId": "116777458968682332604"
          }
        }
      },
      "cell_type": "code",
      "source": [
        "'''Trains a simple convnet on the MNIST dataset.\n",
        "Gets to 99.25% test accuracy after 12 epochs\n",
        "(there is still a lot of margin for parameter tuning).\n",
        "16 seconds per epoch on a GRID K520 GPU.\n",
        "'''\n",
        "\n",
        "from __future__ import print_function\n",
        "import keras\n",
        "from keras.datasets import mnist\n",
        "from keras.models import Sequential\n",
        "from keras.layers import Dense, Dropout, Flatten\n",
        "from keras.layers import Conv2D, MaxPooling2D\n",
        "from keras import backend as K\n",
        "\n",
        "batch_size = 128\n",
        "num_classes = 10\n",
        "epochs = 20\n",
        "\n",
        "# input image dimensions\n",
        "img_rows, img_cols = 28, 28\n",
        "\n",
        "# the data, split between train and test sets\n",
        "(x_train, y_train), (x_test, y_test) = mnist.load_data()\n",
        "\n",
        "if K.image_data_format() == 'channels_first':\n",
        "    x_train = x_train.reshape(x_train.shape[0], 1, img_rows, img_cols)\n",
        "    x_test = x_test.reshape(x_test.shape[0], 1, img_rows, img_cols)\n",
        "    input_shape = (1, img_rows, img_cols)\n",
        "else:\n",
        "    x_train = x_train.reshape(x_train.shape[0], img_rows, img_cols, 1)\n",
        "    x_test = x_test.reshape(x_test.shape[0], img_rows, img_cols, 1)\n",
        "    input_shape = (img_rows, img_cols, 1)\n",
        "\n",
        "x_train = x_train.astype('float32')\n",
        "x_test = x_test.astype('float32')\n",
        "x_train /= 255\n",
        "x_test /= 255\n",
        "print('x_train shape:', x_train.shape)\n",
        "print(x_train.shape[0], 'train samples')\n",
        "print(x_test.shape[0], 'test samples')\n",
        "\n",
        "# convert class vectors to binary class matrices\n",
        "y_train = keras.utils.to_categorical(y_train, num_classes)\n",
        "y_test = keras.utils.to_categorical(y_test, num_classes)\n",
        "\n",
        "model = Sequential()\n",
        "model.add(Conv2D(32, kernel_size=(3, 3),\n",
        "                 activation='relu',\n",
        "                 input_shape=input_shape))\n",
        "model.add(Conv2D(64, (3, 3), activation='relu'))\n",
        "model.add(MaxPooling2D(pool_size=(2, 2)))\n",
        "model.add(Dropout(0.25))\n",
        "model.add(Flatten())\n",
        "model.add(Dense(128, activation='relu', name = 'dense1'))\n",
        "model.add(Dropout(0.5))\n",
        "model.add(Dense(num_classes, activation='softmax'))\n",
        "\n",
        "model.compile(loss=keras.losses.categorical_crossentropy,\n",
        "              optimizer=keras.optimizers.Adadelta(),\n",
        "              metrics=['accuracy'])\n",
        "# define callback \n",
        "check_point = keras.callbacks.ModelCheckpoint('./Checkpoint',\n",
        "                                              monitor='val_loss',\n",
        "                                              verbose=0,\n",
        "                                              save_best_only=True,\n",
        "                                              save_weights_only=False,\n",
        "                                              mode='auto', period=1)\n",
        "\n",
        "early_stopping = keras.callbacks.EarlyStopping(monitor='val_loss',\n",
        "                                               min_delta=0, patience=4,\n",
        "                                               verbose=1,\n",
        "                                               mode='auto',\n",
        "                                               )\n",
        "# tensor_board = keras.callbacks.Tensorboard('drive/Colab Notebooks/logs')\n",
        "\n",
        "#training the model\n",
        "model.fit(x_train, y_train,\n",
        "          batch_size=batch_size,\n",
        "          epochs=12,\n",
        "          verbose=1,\n",
        "          validation_data=(x_test, y_test),\n",
        "          callbacks = [early_stopping])\n",
        "\n",
        "score = model.evaluate(x_test, y_test, verbose=0)\n",
        "print('Test loss:', score[0])\n",
        "print('Test accuracy:', score[1])"
      ],
      "execution_count": 3,
      "outputs": [
        {
          "output_type": "stream",
          "text": [
            "Using TensorFlow backend.\n"
          ],
          "name": "stderr"
        },
        {
          "output_type": "stream",
          "text": [
            "Downloading data from https://s3.amazonaws.com/img-datasets/mnist.npz\n",
            "11493376/11490434 [==============================] - 1s 0us/step\n",
            "x_train shape: (60000, 28, 28, 1)\n",
            "60000 train samples\n",
            "10000 test samples\n",
            "Train on 60000 samples, validate on 10000 samples\n",
            "Epoch 1/12\n",
            "60000/60000 [==============================] - 14s 231us/step - loss: 0.2726 - acc: 0.9166 - val_loss: 0.0582 - val_acc: 0.9804\n",
            "Epoch 2/12\n",
            "22400/60000 [==========>...................] - ETA: 6s - loss: 0.0929 - acc: 0.9709"
          ],
          "name": "stdout"
        },
        {
          "output_type": "stream",
          "text": [
            "60000/60000 [==============================] - 11s 190us/step - loss: 0.0892 - acc: 0.9731 - val_loss: 0.0425 - val_acc: 0.9856\n",
            "Epoch 3/12\n",
            "60000/60000 [==============================] - 11s 188us/step - loss: 0.0644 - acc: 0.9809 - val_loss: 0.0462 - val_acc: 0.9845\n",
            "Epoch 4/12\n",
            "47616/60000 [======================>.......] - ETA: 2s - loss: 0.0562 - acc: 0.9835"
          ],
          "name": "stdout"
        },
        {
          "output_type": "stream",
          "text": [
            "60000/60000 [==============================] - 11s 190us/step - loss: 0.0538 - acc: 0.9842 - val_loss: 0.0320 - val_acc: 0.9889\n",
            "Epoch 5/12\n",
            "60000/60000 [==============================] - 12s 194us/step - loss: 0.0464 - acc: 0.9862 - val_loss: 0.0334 - val_acc: 0.9891\n",
            "Epoch 6/12\n",
            "54912/60000 [==========================>...] - ETA: 0s - loss: 0.0412 - acc: 0.9874"
          ],
          "name": "stdout"
        },
        {
          "output_type": "stream",
          "text": [
            "60000/60000 [==============================] - 11s 190us/step - loss: 0.0411 - acc: 0.9873 - val_loss: 0.0261 - val_acc: 0.9920\n",
            "Epoch 7/12\n",
            "60000/60000 [==============================] - 11s 183us/step - loss: 0.0354 - acc: 0.9889 - val_loss: 0.0257 - val_acc: 0.9914\n",
            "Epoch 8/12\n",
            "60000/60000 [==============================] - 11s 179us/step - loss: 0.0338 - acc: 0.9893 - val_loss: 0.0253 - val_acc: 0.9913\n",
            "Epoch 9/12\n",
            "  768/60000 [..............................] - ETA: 11s - loss: 0.0336 - acc: 0.9883"
          ],
          "name": "stdout"
        },
        {
          "output_type": "stream",
          "text": [
            "60000/60000 [==============================] - 11s 178us/step - loss: 0.0291 - acc: 0.9909 - val_loss: 0.0255 - val_acc: 0.9927\n",
            "Epoch 10/12\n",
            "60000/60000 [==============================] - 11s 177us/step - loss: 0.0270 - acc: 0.9915 - val_loss: 0.0267 - val_acc: 0.9919\n",
            "Epoch 11/12\n",
            "48768/60000 [=======================>......] - ETA: 1s - loss: 0.0269 - acc: 0.9915"
          ],
          "name": "stdout"
        },
        {
          "output_type": "stream",
          "text": [
            "60000/60000 [==============================] - 11s 181us/step - loss: 0.0267 - acc: 0.9916 - val_loss: 0.0250 - val_acc: 0.9922\n",
            "Epoch 12/12\n",
            "60000/60000 [==============================] - 11s 178us/step - loss: 0.0236 - acc: 0.9928 - val_loss: 0.0240 - val_acc: 0.9930\n",
            "Test loss: 0.0239709717479971\n",
            "Test accuracy: 0.993\n"
          ],
          "name": "stdout"
        }
      ]
    },
    {
      "metadata": {
        "id": "GZOdgCVhWxAK",
        "colab_type": "code",
        "colab": {
          "autoexec": {
            "startup": false,
            "wait_interval": 0
          },
          "base_uri": "https://localhost:8080/",
          "height": 0
        },
        "outputId": "14c03689-5145-4558-9fb1-33daa0cd2803",
        "executionInfo": {
          "status": "ok",
          "timestamp": 1530377080779,
          "user_tz": -330,
          "elapsed": 933,
          "user": {
            "displayName": "Navid Panchi",
            "photoUrl": "//lh3.googleusercontent.com/-NM0Kl46VUA4/AAAAAAAAAAI/AAAAAAAABmU/OhXG5uRldO0/s50-c-k-no/photo.jpg",
            "userId": "116777458968682332604"
          }
        }
      },
      "cell_type": "code",
      "source": [
        "#data_load\n",
        "\n",
        "import os \n",
        "import cv2\n",
        "from tqdm import tqdm\n",
        "\n",
        "\n",
        "def load_data(pos_path, neg_path, val_split):\n",
        "  length = len(os.listdir(pos_path)) + len(os.listdir(neg_path))\n",
        "  images  = np.empty([length, 28,28])\n",
        "  labels = np.empty ([length,2])\n",
        "  count = 0\n",
        "  for img in (os.listdir(pos_path)):\n",
        "    image = cv2.imread(os.path.join(pos_path, img))[:,:,0]\n",
        "    images[count] = image\n",
        "    labels[count][0] = 1\n",
        "    labels[count][1] = 0\n",
        "    count += 1\n",
        "    if count / 50 == 0 : print(f'done : {count}')\n",
        "  print('positives done!')\n",
        "  for img in (os.listdir(neg_path)):\n",
        "    image = cv2.imread(os.path.join(neg_path, img))[:,:,0]\n",
        "    images[count] = image\n",
        "    labels[count][1] = 1\n",
        "    labels[count][0] = 0\n",
        "    count += 1\n",
        "    if count == length:\n",
        "      print('negatives done!')\n",
        "      break\n",
        "  \n",
        "  #loop for randomizing\n",
        "  rimages  = np.empty([length, 28,28])\n",
        "  rlabels = np.empty ([length,2])\n",
        "  count = 0 \n",
        "  for i in np.random.permutation(length):\n",
        "    rimages[i] = images[count]\n",
        "    rlabels[i]= labels[count]\n",
        "    count += 1\n",
        "  print('randomized')\n",
        "  split = np.int_((1- val_split)*length)\n",
        "  rimages = np.reshape(rimages, [length, 28, 28, 1])\n",
        "  X_train = rimages[:split] \n",
        "  X_test = rimages[split:]\n",
        "  Y_train = rlabels[:split]\n",
        "  Y_test = rlabels[split:]\n",
        "  return X_train, Y_train, X_test , Y_test"
      ],
      "execution_count": 20,
      "outputs": []
    },
    {
      "metadata": {
        "id": "mujKVsTlZ1HC",
        "colab_type": "code",
        "colab": {
          "autoexec": {
            "startup": false,
            "wait_interval": 0
          },
          "base_uri": "https://localhost:8080/",
          "height": 86
        },
        "outputId": "355b72ee-ecc8-4f0a-b40a-a97c937460ee",
        "executionInfo": {
          "status": "ok",
          "timestamp": 1530378082071,
          "user_tz": -330,
          "elapsed": 999344,
          "user": {
            "displayName": "Navid Panchi",
            "photoUrl": "//lh3.googleusercontent.com/-NM0Kl46VUA4/AAAAAAAAAAI/AAAAAAAABmU/OhXG5uRldO0/s50-c-k-no/photo.jpg",
            "userId": "116777458968682332604"
          }
        }
      },
      "cell_type": "code",
      "source": [
        "X_train, Y_train, X_validation , Y_validation = load_data('pos', 'Negs', val_split= 0.2)\n",
        "print(X_train.shape, Y_train.shape, X_validation.shape , Y_validation.shape)\n"
      ],
      "execution_count": 21,
      "outputs": [
        {
          "output_type": "stream",
          "text": [
            "positives done!\n",
            "negatives done!\n",
            "randomized\n",
            "(1444, 28, 28, 1) (1444, 2) (361, 28, 28, 1) (361, 2)\n"
          ],
          "name": "stdout"
        }
      ]
    },
    {
      "metadata": {
        "id": "RufbLk7jSEM2",
        "colab_type": "code",
        "colab": {
          "autoexec": {
            "startup": false,
            "wait_interval": 0
          },
          "base_uri": "https://localhost:8080/",
          "height": 0
        },
        "outputId": "9c5c6766-dc1a-4d61-dd22-3eca911fb479",
        "executionInfo": {
          "status": "ok",
          "timestamp": 1530378757591,
          "user_tz": -330,
          "elapsed": 962,
          "user": {
            "displayName": "Navid Panchi",
            "photoUrl": "//lh3.googleusercontent.com/-NM0Kl46VUA4/AAAAAAAAAAI/AAAAAAAABmU/OhXG5uRldO0/s50-c-k-no/photo.jpg",
            "userId": "116777458968682332604"
          }
        }
      },
      "cell_type": "code",
      "source": [
        "from keras.layers import Input\n",
        "from keras.models import Model\n",
        "import numpy as np\n",
        "import pandas as pd"
      ],
      "execution_count": 22,
      "outputs": []
    },
    {
      "metadata": {
        "id": "OMR_icQr7oye",
        "colab_type": "code",
        "colab": {
          "autoexec": {
            "startup": false,
            "wait_interval": 0
          },
          "base_uri": "https://localhost:8080/",
          "height": 0
        },
        "outputId": "5dea9a9c-67a2-4fab-957f-1b4934617008",
        "executionInfo": {
          "status": "ok",
          "timestamp": 1530378825681,
          "user_tz": -330,
          "elapsed": 945,
          "user": {
            "displayName": "Navid Panchi",
            "photoUrl": "//lh3.googleusercontent.com/-NM0Kl46VUA4/AAAAAAAAAAI/AAAAAAAABmU/OhXG5uRldO0/s50-c-k-no/photo.jpg",
            "userId": "116777458968682332604"
          }
        }
      },
      "cell_type": "code",
      "source": [
        "# model.save('mnist.h5')\n",
        "inputs = Input([28,28,1])\n",
        "\n",
        "mnist = Model(inputs = model.layers[0].input,  outputs= model.get_layer('dense1').output)\n",
        "\n",
        "mnist_output = mnist(inputs)\n",
        "# dropout = Dropout(0.5)(mnist_output)\n",
        "\n",
        "\n",
        "\n",
        "dense = Dense(2, activation = 'softmax')(mnist_output)\n",
        "\n",
        "main_model = Model(inputs = inputs , outputs = dense, name = 'aman_proj')\n"
      ],
      "execution_count": 27,
      "outputs": []
    },
    {
      "metadata": {
        "id": "di06KK_rW_vO",
        "colab_type": "code",
        "colab": {
          "autoexec": {
            "startup": false,
            "wait_interval": 0
          },
          "base_uri": "https://localhost:8080/",
          "height": 243
        },
        "outputId": "2d7f0d29-1595-4b0c-83ef-be499984950d",
        "executionInfo": {
          "status": "ok",
          "timestamp": 1530378826685,
          "user_tz": -330,
          "elapsed": 895,
          "user": {
            "displayName": "Navid Panchi",
            "photoUrl": "//lh3.googleusercontent.com/-NM0Kl46VUA4/AAAAAAAAAAI/AAAAAAAABmU/OhXG5uRldO0/s50-c-k-no/photo.jpg",
            "userId": "116777458968682332604"
          }
        }
      },
      "cell_type": "code",
      "source": [
        "main_model.summary()"
      ],
      "execution_count": 28,
      "outputs": [
        {
          "output_type": "stream",
          "text": [
            "_________________________________________________________________\n",
            "Layer (type)                 Output Shape              Param #   \n",
            "=================================================================\n",
            "input_4 (InputLayer)         (None, 28, 28, 1)         0         \n",
            "_________________________________________________________________\n",
            "model_4 (Model)              (None, 128)               1198592   \n",
            "_________________________________________________________________\n",
            "dense_8 (Dense)              (None, 2)                 258       \n",
            "=================================================================\n",
            "Total params: 1,198,850\n",
            "Trainable params: 1,198,850\n",
            "Non-trainable params: 0\n",
            "_________________________________________________________________\n"
          ],
          "name": "stdout"
        }
      ]
    },
    {
      "metadata": {
        "id": "EH8_sJyFZek4",
        "colab_type": "code",
        "colab": {
          "autoexec": {
            "startup": false,
            "wait_interval": 0
          },
          "base_uri": "https://localhost:8080/",
          "height": 17
        },
        "outputId": "bdb5dc2a-2653-42f9-a35f-1194f3098d09",
        "executionInfo": {
          "status": "ok",
          "timestamp": 1530378871643,
          "user_tz": -330,
          "elapsed": 1124,
          "user": {
            "displayName": "Navid Panchi",
            "photoUrl": "//lh3.googleusercontent.com/-NM0Kl46VUA4/AAAAAAAAAAI/AAAAAAAABmU/OhXG5uRldO0/s50-c-k-no/photo.jpg",
            "userId": "116777458968682332604"
          }
        }
      },
      "cell_type": "code",
      "source": [
        "main_model.compile(loss=keras.losses.categorical_crossentropy,\n",
        "              optimizer=keras.optimizers.Adadelta(),\n",
        "              metrics=['accuracy'])"
      ],
      "execution_count": 31,
      "outputs": []
    },
    {
      "metadata": {
        "id": "iZR4oHzdNSan",
        "colab_type": "code",
        "colab": {
          "autoexec": {
            "startup": false,
            "wait_interval": 0
          }
        }
      },
      "cell_type": "code",
      "source": [
        "main_model.fit(X_train, Y_train, validation_data = [X_validation, Y_validation], shuffle = True, epochs = 100)"
      ],
      "execution_count": 0,
      "outputs": []
    },
    {
      "metadata": {
        "id": "g2hJu4NuMwpM",
        "colab_type": "code",
        "colab": {
          "autoexec": {
            "startup": false,
            "wait_interval": 0
          },
          "base_uri": "https://localhost:8080/",
          "height": 0
        },
        "outputId": "dc93ca33-1bff-4775-d0b9-c71943427e58",
        "executionInfo": {
          "status": "ok",
          "timestamp": 1530297662706,
          "user_tz": -330,
          "elapsed": 5307,
          "user": {
            "displayName": "Navid Panchi",
            "photoUrl": "//lh3.googleusercontent.com/-NM0Kl46VUA4/AAAAAAAAAAI/AAAAAAAABmU/OhXG5uRldO0/s50-c-k-no/photo.jpg",
            "userId": "116777458968682332604"
          }
        }
      },
      "cell_type": "code",
      "source": [
        "main_model.save('main_model1.h5')\n"
      ],
      "execution_count": 186,
      "outputs": []
    },
    {
      "metadata": {
        "id": "EvBncKgU_RiJ",
        "colab_type": "code",
        "colab": {
          "autoexec": {
            "startup": false,
            "wait_interval": 0
          },
          "base_uri": "https://localhost:8080/",
          "height": 17
        },
        "outputId": "cc64ff3e-846d-458f-d80e-5870b11542bf",
        "executionInfo": {
          "status": "ok",
          "timestamp": 1530357424906,
          "user_tz": -330,
          "elapsed": 1831,
          "user": {
            "displayName": "Navid Panchi",
            "photoUrl": "//lh3.googleusercontent.com/-NM0Kl46VUA4/AAAAAAAAAAI/AAAAAAAABmU/OhXG5uRldO0/s50-c-k-no/photo.jpg",
            "userId": "116777458968682332604"
          }
        }
      },
      "cell_type": "code",
      "source": [
        "from keras.models import load_model\n",
        "\n",
        "prediction = load_model('main_model.h5')\n",
        "import cv2"
      ],
      "execution_count": 12,
      "outputs": []
    },
    {
      "metadata": {
        "id": "7DL7fFK1YDlc",
        "colab_type": "code",
        "colab": {
          "autoexec": {
            "startup": false,
            "wait_interval": 0
          },
          "base_uri": "https://localhost:8080/",
          "height": 0
        },
        "outputId": "47b44475-068c-47ec-ee79-700bb703c73d",
        "executionInfo": {
          "status": "ok",
          "timestamp": 1530357230645,
          "user_tz": -330,
          "elapsed": 921,
          "user": {
            "displayName": "Navid Panchi",
            "photoUrl": "//lh3.googleusercontent.com/-NM0Kl46VUA4/AAAAAAAAAAI/AAAAAAAABmU/OhXG5uRldO0/s50-c-k-no/photo.jpg",
            "userId": "116777458968682332604"
          }
        }
      },
      "cell_type": "code",
      "source": [
        "#test loading\n",
        "\n",
        "def load_test(path):\n",
        "  x = np.empty([len(os.listdir(path)), 28,28,1])\n",
        "  count = 0 \n",
        "  for file in os.listdir(path):\n",
        "    img = cv2.imread(os.path.join(path, file))[:,:,0]\n",
        "    img = img.reshape([28,28,1])\n",
        "    x[count] = img\n",
        "    count += 1\n",
        "    if count == len(os.listdir(path)): break\n",
        "  return x "
      ],
      "execution_count": 7,
      "outputs": []
    },
    {
      "metadata": {
        "id": "f2m51zqGDyUq",
        "colab_type": "code",
        "colab": {
          "autoexec": {
            "startup": false,
            "wait_interval": 0
          },
          "base_uri": "https://localhost:8080/",
          "height": 0
        },
        "outputId": "f42f171c-35ee-4677-9402-1a63e422ff6d",
        "executionInfo": {
          "status": "ok",
          "timestamp": 1530357403385,
          "user_tz": -330,
          "elapsed": 21954,
          "user": {
            "displayName": "Navid Panchi",
            "photoUrl": "//lh3.googleusercontent.com/-NM0Kl46VUA4/AAAAAAAAAAI/AAAAAAAABmU/OhXG5uRldO0/s50-c-k-no/photo.jpg",
            "userId": "116777458968682332604"
          }
        }
      },
      "cell_type": "code",
      "source": [
        "import numpy as np\n",
        "x = load_test('Test')\n",
        "print('done loading')"
      ],
      "execution_count": 11,
      "outputs": []
    },
    {
      "metadata": {
        "id": "HMgOKP6fWEle",
        "colab_type": "code",
        "colab": {
          "autoexec": {
            "startup": false,
            "wait_interval": 0
          },
          "base_uri": "https://localhost:8080/",
          "height": 0
        },
        "outputId": "9e6a0e51-c143-4c9f-c7f3-9b0d4d6197b8",
        "executionInfo": {
          "status": "ok",
          "timestamp": 1530360487148,
          "user_tz": -330,
          "elapsed": 892,
          "user": {
            "displayName": "Navid Panchi",
            "photoUrl": "//lh3.googleusercontent.com/-NM0Kl46VUA4/AAAAAAAAAAI/AAAAAAAABmU/OhXG5uRldO0/s50-c-k-no/photo.jpg",
            "userId": "116777458968682332604"
          }
        }
      },
      "cell_type": "code",
      "source": [
        "prob = prediction.predict(x) \n"
      ],
      "execution_count": 22,
      "outputs": []
    },
    {
      "metadata": {
        "id": "oMHWoG_FbAU0",
        "colab_type": "code",
        "colab": {
          "autoexec": {
            "startup": false,
            "wait_interval": 0
          },
          "base_uri": "https://localhost:8080/",
          "height": 2101
        },
        "outputId": "cbca3942-8b59-41e4-f659-dbcfbc3747b7",
        "executionInfo": {
          "status": "ok",
          "timestamp": 1530360488746,
          "user_tz": -330,
          "elapsed": 911,
          "user": {
            "displayName": "Navid Panchi",
            "photoUrl": "//lh3.googleusercontent.com/-NM0Kl46VUA4/AAAAAAAAAAI/AAAAAAAABmU/OhXG5uRldO0/s50-c-k-no/photo.jpg",
            "userId": "116777458968682332604"
          }
        }
      },
      "cell_type": "code",
      "source": [
        "print(prob)"
      ],
      "execution_count": 23,
      "outputs": [
        {
          "output_type": "stream",
          "text": [
            "[[0.0000000e+00 1.0000000e+00]\n",
            " [1.1268439e-04 9.9988735e-01]\n",
            " [0.0000000e+00 1.0000000e+00]\n",
            " [0.0000000e+00 1.0000000e+00]\n",
            " [0.0000000e+00 1.0000000e+00]\n",
            " [1.1268439e-04 9.9988735e-01]\n",
            " [0.0000000e+00 1.0000000e+00]\n",
            " [0.0000000e+00 1.0000000e+00]\n",
            " [1.1268439e-04 9.9988735e-01]\n",
            " [0.0000000e+00 1.0000000e+00]\n",
            " [0.0000000e+00 1.0000000e+00]\n",
            " [1.1268439e-04 9.9988735e-01]\n",
            " [1.1268439e-04 9.9988735e-01]\n",
            " [0.0000000e+00 1.0000000e+00]\n",
            " [0.0000000e+00 1.0000000e+00]\n",
            " [0.0000000e+00 1.0000000e+00]\n",
            " [0.0000000e+00 1.0000000e+00]\n",
            " [0.0000000e+00 1.0000000e+00]\n",
            " [0.0000000e+00 1.0000000e+00]\n",
            " [0.0000000e+00 1.0000000e+00]\n",
            " [0.0000000e+00 1.0000000e+00]\n",
            " [0.0000000e+00 1.0000000e+00]\n",
            " [0.0000000e+00 1.0000000e+00]\n",
            " [1.1268439e-04 9.9988735e-01]\n",
            " [1.1268439e-04 9.9988735e-01]\n",
            " [1.1268439e-04 9.9988735e-01]\n",
            " [0.0000000e+00 1.0000000e+00]\n",
            " [0.0000000e+00 1.0000000e+00]\n",
            " [0.0000000e+00 1.0000000e+00]\n",
            " [0.0000000e+00 1.0000000e+00]\n",
            " [0.0000000e+00 1.0000000e+00]\n",
            " [0.0000000e+00 1.0000000e+00]\n",
            " [1.1268439e-04 9.9988735e-01]\n",
            " [0.0000000e+00 1.0000000e+00]\n",
            " [0.0000000e+00 1.0000000e+00]\n",
            " [0.0000000e+00 1.0000000e+00]\n",
            " [0.0000000e+00 1.0000000e+00]\n",
            " [1.1268439e-04 9.9988735e-01]\n",
            " [1.1268439e-04 9.9988735e-01]\n",
            " [0.0000000e+00 1.0000000e+00]\n",
            " [0.0000000e+00 1.0000000e+00]\n",
            " [0.0000000e+00 1.0000000e+00]\n",
            " [0.0000000e+00 1.0000000e+00]\n",
            " [0.0000000e+00 1.0000000e+00]\n",
            " [0.0000000e+00 1.0000000e+00]\n",
            " [1.1268439e-04 9.9988735e-01]\n",
            " [0.0000000e+00 1.0000000e+00]\n",
            " [0.0000000e+00 1.0000000e+00]\n",
            " [0.0000000e+00 1.0000000e+00]\n",
            " [0.0000000e+00 1.0000000e+00]\n",
            " [0.0000000e+00 1.0000000e+00]\n",
            " [0.0000000e+00 1.0000000e+00]\n",
            " [0.0000000e+00 1.0000000e+00]\n",
            " [1.1268439e-04 9.9988735e-01]\n",
            " [1.1268439e-04 9.9988735e-01]\n",
            " [1.1268439e-04 9.9988735e-01]\n",
            " [0.0000000e+00 1.0000000e+00]\n",
            " [0.0000000e+00 1.0000000e+00]\n",
            " [0.0000000e+00 1.0000000e+00]\n",
            " [0.0000000e+00 1.0000000e+00]\n",
            " [1.1268439e-04 9.9988735e-01]\n",
            " [0.0000000e+00 1.0000000e+00]\n",
            " [1.1268439e-04 9.9988735e-01]\n",
            " [0.0000000e+00 1.0000000e+00]\n",
            " [0.0000000e+00 1.0000000e+00]\n",
            " [0.0000000e+00 1.0000000e+00]\n",
            " [1.1268439e-04 9.9988735e-01]\n",
            " [0.0000000e+00 1.0000000e+00]\n",
            " [1.1268439e-04 9.9988735e-01]\n",
            " [0.0000000e+00 1.0000000e+00]\n",
            " [0.0000000e+00 1.0000000e+00]\n",
            " [0.0000000e+00 1.0000000e+00]\n",
            " [1.1268439e-04 9.9988735e-01]\n",
            " [1.1268439e-04 9.9988735e-01]\n",
            " [0.0000000e+00 1.0000000e+00]\n",
            " [1.1268439e-04 9.9988735e-01]\n",
            " [0.0000000e+00 1.0000000e+00]\n",
            " [0.0000000e+00 1.0000000e+00]\n",
            " [0.0000000e+00 1.0000000e+00]\n",
            " [0.0000000e+00 1.0000000e+00]\n",
            " [0.0000000e+00 1.0000000e+00]\n",
            " [1.1268439e-04 9.9988735e-01]\n",
            " [0.0000000e+00 1.0000000e+00]\n",
            " [0.0000000e+00 1.0000000e+00]\n",
            " [1.1268439e-04 9.9988735e-01]\n",
            " [0.0000000e+00 1.0000000e+00]\n",
            " [0.0000000e+00 1.0000000e+00]\n",
            " [1.1268439e-04 9.9988735e-01]\n",
            " [0.0000000e+00 1.0000000e+00]\n",
            " [0.0000000e+00 1.0000000e+00]\n",
            " [0.0000000e+00 1.0000000e+00]\n",
            " [1.1268439e-04 9.9988735e-01]\n",
            " [1.1268439e-04 9.9988735e-01]\n",
            " [0.0000000e+00 1.0000000e+00]\n",
            " [0.0000000e+00 1.0000000e+00]\n",
            " [1.1268439e-04 9.9988735e-01]\n",
            " [1.1268439e-04 9.9988735e-01]\n",
            " [0.0000000e+00 1.0000000e+00]\n",
            " [0.0000000e+00 1.0000000e+00]\n",
            " [1.1268439e-04 9.9988735e-01]\n",
            " [0.0000000e+00 1.0000000e+00]\n",
            " [1.1268439e-04 9.9988735e-01]\n",
            " [1.1268439e-04 9.9988735e-01]\n",
            " [0.0000000e+00 1.0000000e+00]\n",
            " [0.0000000e+00 1.0000000e+00]\n",
            " [1.1268439e-04 9.9988735e-01]\n",
            " [1.1268439e-04 9.9988735e-01]\n",
            " [1.1268439e-04 9.9988735e-01]\n",
            " [0.0000000e+00 1.0000000e+00]\n",
            " [1.1268439e-04 9.9988735e-01]\n",
            " [1.1268439e-04 9.9988735e-01]\n",
            " [1.1268439e-04 9.9988735e-01]\n",
            " [0.0000000e+00 1.0000000e+00]\n",
            " [1.1268439e-04 9.9988735e-01]\n",
            " [0.0000000e+00 1.0000000e+00]\n",
            " [0.0000000e+00 1.0000000e+00]\n",
            " [0.0000000e+00 1.0000000e+00]\n",
            " [0.0000000e+00 1.0000000e+00]\n",
            " [1.1268439e-04 9.9988735e-01]\n",
            " [0.0000000e+00 1.0000000e+00]]\n"
          ],
          "name": "stdout"
        }
      ]
    },
    {
      "metadata": {
        "id": "04tpTv7eNBvh",
        "colab_type": "code",
        "colab": {
          "autoexec": {
            "startup": false,
            "wait_interval": 0
          },
          "base_uri": "https://localhost:8080/",
          "height": 17
        },
        "outputId": "5b088b02-8cbf-415e-f64a-89ca2c2a7d8e",
        "executionInfo": {
          "status": "ok",
          "timestamp": 1530376393871,
          "user_tz": -330,
          "elapsed": 2029,
          "user": {
            "displayName": "Navid Panchi",
            "photoUrl": "//lh3.googleusercontent.com/-NM0Kl46VUA4/AAAAAAAAAAI/AAAAAAAABmU/OhXG5uRldO0/s50-c-k-no/photo.jpg",
            "userId": "116777458968682332604"
          }
        }
      },
      "cell_type": "code",
      "source": [
        ""
      ],
      "execution_count": 6,
      "outputs": []
    },
    {
      "metadata": {
        "id": "rgxeEfjnmQYu",
        "colab_type": "code",
        "colab": {
          "autoexec": {
            "startup": false,
            "wait_interval": 0
          },
          "base_uri": "https://localhost:8080/",
          "height": 0
        },
        "outputId": "48b52564-1aa6-4376-d048-d5a241affffb",
        "executionInfo": {
          "status": "ok",
          "timestamp": 1530364913593,
          "user_tz": -330,
          "elapsed": 879,
          "user": {
            "displayName": "Navid Panchi",
            "photoUrl": "//lh3.googleusercontent.com/-NM0Kl46VUA4/AAAAAAAAAAI/AAAAAAAABmU/OhXG5uRldO0/s50-c-k-no/photo.jpg",
            "userId": "116777458968682332604"
          }
        }
      },
      "cell_type": "code",
      "source": [
        "df = pd.DataFrame(prob, columns = ['positive', 'negative'])\n",
        "df['filenames'] = os.listdir('Test')"
      ],
      "execution_count": 41,
      "outputs": []
    },
    {
      "metadata": {
        "id": "y8RgPGi4meAR",
        "colab_type": "code",
        "colab": {
          "autoexec": {
            "startup": false,
            "wait_interval": 0
          },
          "base_uri": "https://localhost:8080/",
          "height": 206
        },
        "outputId": "7d43489a-4026-47f7-e2d8-6d735233da80",
        "executionInfo": {
          "status": "ok",
          "timestamp": 1530364915554,
          "user_tz": -330,
          "elapsed": 1149,
          "user": {
            "displayName": "Navid Panchi",
            "photoUrl": "//lh3.googleusercontent.com/-NM0Kl46VUA4/AAAAAAAAAAI/AAAAAAAABmU/OhXG5uRldO0/s50-c-k-no/photo.jpg",
            "userId": "116777458968682332604"
          }
        }
      },
      "cell_type": "code",
      "source": [
        "df.head()"
      ],
      "execution_count": 42,
      "outputs": [
        {
          "output_type": "execute_result",
          "data": {
            "text/html": [
              "<div>\n",
              "<style scoped>\n",
              "    .dataframe tbody tr th:only-of-type {\n",
              "        vertical-align: middle;\n",
              "    }\n",
              "\n",
              "    .dataframe tbody tr th {\n",
              "        vertical-align: top;\n",
              "    }\n",
              "\n",
              "    .dataframe thead th {\n",
              "        text-align: right;\n",
              "    }\n",
              "</style>\n",
              "<table border=\"1\" class=\"dataframe\">\n",
              "  <thead>\n",
              "    <tr style=\"text-align: right;\">\n",
              "      <th></th>\n",
              "      <th>positive</th>\n",
              "      <th>negative</th>\n",
              "      <th>filenames</th>\n",
              "    </tr>\n",
              "  </thead>\n",
              "  <tbody>\n",
              "    <tr>\n",
              "      <th>0</th>\n",
              "      <td>0.000000</td>\n",
              "      <td>1.000000</td>\n",
              "      <td>5990.JPG</td>\n",
              "    </tr>\n",
              "    <tr>\n",
              "      <th>1</th>\n",
              "      <td>0.000113</td>\n",
              "      <td>0.999887</td>\n",
              "      <td>3380.JPG</td>\n",
              "    </tr>\n",
              "    <tr>\n",
              "      <th>2</th>\n",
              "      <td>0.000000</td>\n",
              "      <td>1.000000</td>\n",
              "      <td>2924.JPG</td>\n",
              "    </tr>\n",
              "    <tr>\n",
              "      <th>3</th>\n",
              "      <td>0.000000</td>\n",
              "      <td>1.000000</td>\n",
              "      <td>9951.JPG</td>\n",
              "    </tr>\n",
              "    <tr>\n",
              "      <th>4</th>\n",
              "      <td>0.000000</td>\n",
              "      <td>1.000000</td>\n",
              "      <td>6325.JPG</td>\n",
              "    </tr>\n",
              "  </tbody>\n",
              "</table>\n",
              "</div>"
            ],
            "text/plain": [
              "   positive  negative filenames\n",
              "0  0.000000  1.000000  5990.JPG\n",
              "1  0.000113  0.999887  3380.JPG\n",
              "2  0.000000  1.000000  2924.JPG\n",
              "3  0.000000  1.000000  9951.JPG\n",
              "4  0.000000  1.000000  6325.JPG"
            ]
          },
          "metadata": {
            "tags": []
          },
          "execution_count": 42
        }
      ]
    },
    {
      "metadata": {
        "id": "BCP6kwj7mg2G",
        "colab_type": "code",
        "colab": {
          "autoexec": {
            "startup": false,
            "wait_interval": 0
          },
          "base_uri": "https://localhost:8080/",
          "height": 0
        },
        "outputId": "630fde3d-a0e4-4f55-a618-3f4e1a3012b9",
        "executionInfo": {
          "status": "ok",
          "timestamp": 1530364936334,
          "user_tz": -330,
          "elapsed": 878,
          "user": {
            "displayName": "Navid Panchi",
            "photoUrl": "//lh3.googleusercontent.com/-NM0Kl46VUA4/AAAAAAAAAAI/AAAAAAAABmU/OhXG5uRldO0/s50-c-k-no/photo.jpg",
            "userId": "116777458968682332604"
          }
        }
      },
      "cell_type": "code",
      "source": [
        "df.to_csv('predictions_on_test.csv')"
      ],
      "execution_count": 43,
      "outputs": []
    },
    {
      "metadata": {
        "id": "vwF6s0jQ7Df_",
        "colab_type": "code",
        "colab": {
          "autoexec": {
            "startup": false,
            "wait_interval": 0
          }
        }
      },
      "cell_type": "code",
      "source": [
        ""
      ],
      "execution_count": 0,
      "outputs": []
    }
  ]
}